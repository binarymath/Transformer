{
  "nbformat": 4,
  "nbformat_minor": 0,
  "metadata": {
    "colab": {
      "provenance": [],
      "authorship_tag": "ABX9TyM2v8RWDV1ok0l+fya62rcv",
      "include_colab_link": true
    },
    "kernelspec": {
      "name": "python3",
      "display_name": "Python 3"
    },
    "language_info": {
      "name": "python"
    }
  },
  "cells": [
    {
      "cell_type": "markdown",
      "metadata": {
        "id": "view-in-github",
        "colab_type": "text"
      },
      "source": [
        "<a href=\"https://colab.research.google.com/github/binarymath/Transformer/blob/main/LLM_Transformer.ipynb\" target=\"_parent\"><img src=\"https://colab.research.google.com/assets/colab-badge.svg\" alt=\"Open In Colab\"/></a>"
      ]
    },
    {
      "cell_type": "markdown",
      "source": [
        "# LLM01: Arquitetura Transformer.\n",
        "[Modelo retirado: LLM 01 - Transformer Architecture/LLM 01 - Transformer Architecture.py](https://github.com/databricks-academy/llm-foundation-models/blob/published/LLM%2001%20-%20Transformer%20Architecture/LLM%2001%20-%20Transformer%20Architecture.py)"
      ],
      "metadata": {
        "id": "XdeNV9m_BXcX"
      }
    },
    {
      "cell_type": "code",
      "source": [
        "# importando biblioteca\n",
        "\n",
        "import torch\n",
        "import torch.nn as nn\n",
        "import math\n",
        "import time\n",
        "import numpy as np\n",
        "import matplotlib.pyplot as plt\n",
        "import seaborn as sns"
      ],
      "metadata": {
        "id": "NjHrypp3B5e6"
      },
      "execution_count": 2,
      "outputs": []
    },
    {
      "cell_type": "code",
      "source": [
        "# Definindo frase e mapeando com  word2id simples\n",
        "\n",
        "sentence = \"Em casa de ferreiro o espeto é de pau\"\n",
        "word2id = {word: i for i, word in enumerate(set(sentence.split()))}\n",
        "print(word2id)\n",
        "\n"
      ],
      "metadata": {
        "colab": {
          "base_uri": "https://localhost:8080/"
        },
        "id": "0PRJjpzSCccS",
        "outputId": "90c0407a-f76b-41e9-afde-21894fcb658a"
      },
      "execution_count": 3,
      "outputs": [
        {
          "output_type": "stream",
          "name": "stdout",
          "text": [
            "{'pau': 0, 'casa': 1, 'espeto': 2, 'Em': 3, 'ferreiro': 4, 'o': 5, 'é': 6, 'de': 7}\n"
          ]
        }
      ]
    }
  ]
}